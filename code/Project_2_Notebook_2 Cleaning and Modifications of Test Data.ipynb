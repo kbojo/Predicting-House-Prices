{
 "cells": [
  {
   "cell_type": "markdown",
   "metadata": {},
   "source": [
    "# Project 2 - Ames Housing Data and Kaggle Challenge \n",
    "## Notebook 2/4: Cleaning and Modfications of Test Data\n",
    "\n",
    "#### Kristina Joos\n",
    " \n",
    "Notebook 1: Cleaning and Modfications of Train Data.  \n",
    "Notebook 2: Cleaning and Modfications of Test Data.  \n",
    "Notebook 3: Creation of the Null Treatment Data Frame.  \n",
    "Notebook 4: Modeling.  \n",
    "\n",
    "---"
   ]
  },
  {
   "cell_type": "markdown",
   "metadata": {},
   "source": [
    "## 2. EDA and Cleaning"
   ]
  },
  {
   "cell_type": "markdown",
   "metadata": {},
   "source": [
    "### 2.1 Importing libraries\n",
    "---"
   ]
  },
  {
   "cell_type": "code",
   "execution_count": null,
   "metadata": {},
   "outputs": [],
   "source": [
    "import pandas as pd\n",
    "import numpy as np\n",
    "import seaborn as sns\n",
    "from sklearn.linear_model import LinearRegression\n",
    "from sklearn.model_selection import train_test_split, cross_val_score\n",
    "import matplotlib.pyplot as plt\n",
    "from sklearn.preprocessing import StandardScaler, PolynomialFeatures\n",
    "\n",
    "%matplotlib inline"
   ]
  },
  {
   "cell_type": "markdown",
   "metadata": {},
   "source": [
    "### 2.2 Load the Data\n",
    "---"
   ]
  },
  {
   "cell_type": "code",
   "execution_count": 119,
   "metadata": {},
   "outputs": [],
   "source": [
    "test_df = pd.read_csv(\"../data/test.csv\")        "
   ]
  },
  {
   "cell_type": "markdown",
   "metadata": {},
   "source": [
    "### 2.3 Data Cleaning\n",
    "___"
   ]
  },
  {
   "cell_type": "markdown",
   "metadata": {},
   "source": [
    "#### 2.3.1  Overview and optimizing column names"
   ]
  },
  {
   "cell_type": "code",
   "execution_count": 120,
   "metadata": {
    "scrolled": true
   },
   "outputs": [
    {
     "data": {
      "text/plain": [
       "(879, 80)"
      ]
     },
     "execution_count": 120,
     "metadata": {},
     "output_type": "execute_result"
    }
   ],
   "source": [
    "test_df.shape"
   ]
  },
  {
   "cell_type": "code",
   "execution_count": 121,
   "metadata": {
    "scrolled": true
   },
   "outputs": [
    {
     "data": {
      "text/html": [
       "<div>\n",
       "<style scoped>\n",
       "    .dataframe tbody tr th:only-of-type {\n",
       "        vertical-align: middle;\n",
       "    }\n",
       "\n",
       "    .dataframe tbody tr th {\n",
       "        vertical-align: top;\n",
       "    }\n",
       "\n",
       "    .dataframe thead th {\n",
       "        text-align: right;\n",
       "    }\n",
       "</style>\n",
       "<table border=\"1\" class=\"dataframe\">\n",
       "  <thead>\n",
       "    <tr style=\"text-align: right;\">\n",
       "      <th></th>\n",
       "      <th>Id</th>\n",
       "      <th>PID</th>\n",
       "      <th>MS SubClass</th>\n",
       "      <th>MS Zoning</th>\n",
       "      <th>Lot Frontage</th>\n",
       "      <th>Lot Area</th>\n",
       "      <th>Street</th>\n",
       "      <th>Alley</th>\n",
       "      <th>Lot Shape</th>\n",
       "      <th>Land Contour</th>\n",
       "      <th>...</th>\n",
       "      <th>3Ssn Porch</th>\n",
       "      <th>Screen Porch</th>\n",
       "      <th>Pool Area</th>\n",
       "      <th>Pool QC</th>\n",
       "      <th>Fence</th>\n",
       "      <th>Misc Feature</th>\n",
       "      <th>Misc Val</th>\n",
       "      <th>Mo Sold</th>\n",
       "      <th>Yr Sold</th>\n",
       "      <th>Sale Type</th>\n",
       "    </tr>\n",
       "  </thead>\n",
       "  <tbody>\n",
       "    <tr>\n",
       "      <td>0</td>\n",
       "      <td>2658</td>\n",
       "      <td>902301120</td>\n",
       "      <td>190</td>\n",
       "      <td>RM</td>\n",
       "      <td>69.0</td>\n",
       "      <td>9142</td>\n",
       "      <td>Pave</td>\n",
       "      <td>Grvl</td>\n",
       "      <td>Reg</td>\n",
       "      <td>Lvl</td>\n",
       "      <td>...</td>\n",
       "      <td>0</td>\n",
       "      <td>0</td>\n",
       "      <td>0</td>\n",
       "      <td>NaN</td>\n",
       "      <td>NaN</td>\n",
       "      <td>NaN</td>\n",
       "      <td>0</td>\n",
       "      <td>4</td>\n",
       "      <td>2006</td>\n",
       "      <td>WD</td>\n",
       "    </tr>\n",
       "    <tr>\n",
       "      <td>1</td>\n",
       "      <td>2718</td>\n",
       "      <td>905108090</td>\n",
       "      <td>90</td>\n",
       "      <td>RL</td>\n",
       "      <td>NaN</td>\n",
       "      <td>9662</td>\n",
       "      <td>Pave</td>\n",
       "      <td>NaN</td>\n",
       "      <td>IR1</td>\n",
       "      <td>Lvl</td>\n",
       "      <td>...</td>\n",
       "      <td>0</td>\n",
       "      <td>0</td>\n",
       "      <td>0</td>\n",
       "      <td>NaN</td>\n",
       "      <td>NaN</td>\n",
       "      <td>NaN</td>\n",
       "      <td>0</td>\n",
       "      <td>8</td>\n",
       "      <td>2006</td>\n",
       "      <td>WD</td>\n",
       "    </tr>\n",
       "  </tbody>\n",
       "</table>\n",
       "<p>2 rows × 80 columns</p>\n",
       "</div>"
      ],
      "text/plain": [
       "     Id        PID  MS SubClass MS Zoning  Lot Frontage  Lot Area Street  \\\n",
       "0  2658  902301120          190        RM          69.0      9142   Pave   \n",
       "1  2718  905108090           90        RL           NaN      9662   Pave   \n",
       "\n",
       "  Alley Lot Shape Land Contour  ... 3Ssn Porch Screen Porch Pool Area Pool QC  \\\n",
       "0  Grvl       Reg          Lvl  ...          0            0         0     NaN   \n",
       "1   NaN       IR1          Lvl  ...          0            0         0     NaN   \n",
       "\n",
       "  Fence Misc Feature Misc Val Mo Sold  Yr Sold  Sale Type  \n",
       "0   NaN          NaN        0       4     2006        WD   \n",
       "1   NaN          NaN        0       8     2006        WD   \n",
       "\n",
       "[2 rows x 80 columns]"
      ]
     },
     "execution_count": 121,
     "metadata": {},
     "output_type": "execute_result"
    }
   ],
   "source": [
    "test_df.head(2)"
   ]
  },
  {
   "cell_type": "code",
   "execution_count": 122,
   "metadata": {},
   "outputs": [],
   "source": [
    "# Renaming Columns to snake case.\n",
    "test_df.rename(columns = lambda x: x.lower().replace(' ','_'), inplace = True)"
   ]
  },
  {
   "cell_type": "markdown",
   "metadata": {},
   "source": [
    "__Fill NaN with None:__"
   ]
  },
  {
   "cell_type": "code",
   "execution_count": 123,
   "metadata": {},
   "outputs": [],
   "source": [
    "# select all rows that have 'Fill NaN with None' as tratment from nulltrain_df and save as fill_in_none Data Frame.\n",
    "\n",
    "fill_in_none = nulltrain_df.loc[nulltrain_df['treatment']== 'Fill NaN with None',:]"
   ]
  },
  {
   "cell_type": "code",
   "execution_count": 124,
   "metadata": {},
   "outputs": [],
   "source": [
    "# Peplace np.nan with 'none' in train_df for all columns names that are indices in fill_in_none:\n",
    "\n",
    "test_df[fill_in_none.index]=test_df[fill_in_none.index].replace(np.nan, 'none')"
   ]
  },
  {
   "cell_type": "code",
   "execution_count": 125,
   "metadata": {},
   "outputs": [],
   "source": [
    "# Column 'mas_vnr_type' contains capitalized None. Changing it to NaN:\n",
    "\n",
    "test_df['mas_vnr_type']=test_df['mas_vnr_type'].replace('None', 'none')"
   ]
  },
  {
   "cell_type": "code",
   "execution_count": 126,
   "metadata": {},
   "outputs": [
    {
     "data": {
      "text/plain": [
       "pool_qc           0\n",
       "misc_feature      0\n",
       "alley             0\n",
       "fence             0\n",
       "fireplace_qu      0\n",
       "garage_yr_blt     0\n",
       "garage_cond       0\n",
       "garage_qual       0\n",
       "garage_finish     0\n",
       "garage_type       0\n",
       "bsmt_exposure     0\n",
       "bsmtfin_type_2    0\n",
       "bsmt_cond         0\n",
       "bsmt_qual         0\n",
       "bsmtfin_type_1    0\n",
       "mas_vnr_type      0\n",
       "dtype: int64"
      ]
     },
     "execution_count": 126,
     "metadata": {},
     "output_type": "execute_result"
    }
   ],
   "source": [
    "# Checking if all the null values that should be filled with none are filled:\n",
    "\n",
    "test_df[fill_in_none.index].isnull().sum()"
   ]
  },
  {
   "cell_type": "markdown",
   "metadata": {},
   "source": [
    "__Fill NaN with 0.0:__"
   ]
  },
  {
   "cell_type": "code",
   "execution_count": 127,
   "metadata": {},
   "outputs": [],
   "source": [
    "# select all rows that have 'Fill with float 0,0' as tratment from nulltrain_df and save as fill_in_zero Data Frame.\n",
    "\n",
    "fill_in_zero = nulltrain_df.loc[nulltrain_df['treatment']== 'Fill with float 0,0',:]"
   ]
  },
  {
   "cell_type": "code",
   "execution_count": 128,
   "metadata": {},
   "outputs": [],
   "source": [
    "# Peplace np.nan with 0.0 in train_df for all columns names that are indices in fill_in_zero:\n",
    "\n",
    "test_df[fill_in_zero.index]=test_df[fill_in_zero.index].replace(np.nan, 0.0)"
   ]
  },
  {
   "cell_type": "code",
   "execution_count": 129,
   "metadata": {},
   "outputs": [
    {
     "data": {
      "text/plain": [
       "mas_vnr_area      0\n",
       "bsmt_half_bath    0\n",
       "bsmt_full_bath    0\n",
       "garage_cars       0\n",
       "bsmtfin_sf_1      0\n",
       "bsmtfin_sf_2      0\n",
       "bsmt_unf_sf       0\n",
       "garage_area       0\n",
       "total_bsmt_sf     0\n",
       "dtype: int64"
      ]
     },
     "execution_count": 129,
     "metadata": {},
     "output_type": "execute_result"
    }
   ],
   "source": [
    "# Checking if all the null values that should be filled with 0.0 are filled:\n",
    "\n",
    "test_df[fill_in_zero.index].isnull().sum()"
   ]
  },
  {
   "cell_type": "markdown",
   "metadata": {},
   "source": [
    "__Fill NaN in lot_frontage with median value of the lot_frontage in the neighborhood:__ "
   ]
  },
  {
   "cell_type": "code",
   "execution_count": 130,
   "metadata": {},
   "outputs": [],
   "source": [
    "test_df['lot_frontage'] = test_df.groupby('neighborhood')['lot_frontage'].transform(lambda x: x.fillna(x.median()) )"
   ]
  },
  {
   "cell_type": "code",
   "execution_count": 131,
   "metadata": {},
   "outputs": [],
   "source": [
    "test_df['lot_frontage']=test_df['lot_frontage'].transform(lambda x: x.fillna(x.mean()) )"
   ]
  },
  {
   "cell_type": "code",
   "execution_count": 132,
   "metadata": {},
   "outputs": [
    {
     "data": {
      "text/plain": [
       "0"
      ]
     },
     "execution_count": 132,
     "metadata": {},
     "output_type": "execute_result"
    }
   ],
   "source": [
    "test_df['lot_frontage'].isnull().sum()"
   ]
  },
  {
   "cell_type": "markdown",
   "metadata": {},
   "source": [
    "\n",
    "#### 2.3.2 Transforming Categorical Data to Numerical Data"
   ]
  },
  {
   "cell_type": "code",
   "execution_count": 133,
   "metadata": {},
   "outputs": [],
   "source": [
    "# Select and safe all columns that contain string (object) data.\n",
    "\n",
    "object_columns = test_df.select_dtypes(include=['object']).columns"
   ]
  },
  {
   "cell_type": "code",
   "execution_count": 134,
   "metadata": {
    "scrolled": true
   },
   "outputs": [],
   "source": [
    "# Transform ordered categorical string data into numberical string data.\n",
    "# Make dictionary that has categorical string as key and int as value.\n",
    "\n",
    "con_to_number = {'Ex':5, 'Gd':4, 'TA':3, 'Fa':2, 'Po':1, np.nan: 0, 'none': 0}\n",
    "\n"
   ]
  },
  {
   "cell_type": "code",
   "execution_count": 135,
   "metadata": {},
   "outputs": [],
   "source": [
    "# Replace categotical string data with int from con_to_number dictionary.\n",
    "\n",
    "test_df[['pool_qc',\n",
    "          'bsmt_cond',\n",
    "          'bsmt_qual',\n",
    "          'heating_qc',\n",
    "          'fireplace_qu',\n",
    "          'kitchen_qual',\n",
    "          'garage_qual',\n",
    "          'garage_cond',\n",
    "          'exter_cond',\n",
    "          'exter_qual']] = test_df[['pool_qc',\n",
    "                                     'bsmt_cond',\n",
    "                                     'bsmt_qual',\n",
    "                                     'heating_qc',\n",
    "                                     'fireplace_qu',\n",
    "                                     'kitchen_qual',\n",
    "                                     'garage_qual',\n",
    "                                     'garage_cond',\n",
    "                                     'exter_cond', \n",
    "                                     'exter_qual']].replace(con_to_number);\n"
   ]
  },
  {
   "cell_type": "code",
   "execution_count": 136,
   "metadata": {},
   "outputs": [],
   "source": [
    "# Change dtype from float to int.\n",
    "\n",
    "test_df[['bsmt_cond',\n",
    "          'bsmt_qual',\n",
    "          'heating_qc',\n",
    "          'fireplace_qu',\n",
    "          'pool_qc',\n",
    "          'kitchen_qual',\n",
    "          'garage_qual',\n",
    "          'garage_cond',\n",
    "          'exter_cond',\n",
    "          'exter_qual']] = test_df[['bsmt_cond',\n",
    "                                     'bsmt_qual',\n",
    "                                     'heating_qc',\n",
    "                                     'fireplace_qu',\n",
    "                                     'pool_qc',\n",
    "                                     'kitchen_qual',\n",
    "                                     'garage_qual',\n",
    "                                     'garage_cond',\n",
    "                                     'exter_cond', \n",
    "                                     'exter_qual']].astype('int')"
   ]
  },
  {
   "cell_type": "code",
   "execution_count": 137,
   "metadata": {},
   "outputs": [
    {
     "data": {
      "text/plain": [
       "bsmt_cond       int64\n",
       "bsmt_qual       int64\n",
       "heating_qc      int64\n",
       "fireplace_qu    int64\n",
       "pool_qc         int64\n",
       "kitchen_qual    int64\n",
       "garage_qual     int64\n",
       "garage_cond     int64\n",
       "exter_cond      int64\n",
       "exter_qual      int64\n",
       "dtype: object"
      ]
     },
     "execution_count": 137,
     "metadata": {},
     "output_type": "execute_result"
    }
   ],
   "source": [
    "# Checking dtypes.\n",
    "\n",
    "test_df[['bsmt_cond',\n",
    "          'bsmt_qual',\n",
    "          'heating_qc',\n",
    "          'fireplace_qu',\n",
    "          'pool_qc',\n",
    "          'kitchen_qual',\n",
    "          'garage_qual',\n",
    "          'garage_cond',\n",
    "          'exter_cond',\n",
    "          'exter_qual']].dtypes\n"
   ]
  },
  {
   "cell_type": "markdown",
   "metadata": {},
   "source": [
    "__Make dummies for remaining object columns:__"
   ]
  },
  {
   "cell_type": "code",
   "execution_count": 138,
   "metadata": {},
   "outputs": [
    {
     "data": {
      "text/plain": [
       "Index(['ms_zoning', 'street', 'alley', 'lot_shape', 'land_contour',\n",
       "       'utilities', 'lot_config', 'land_slope', 'neighborhood', 'condition_1',\n",
       "       'condition_2', 'bldg_type', 'house_style', 'roof_style', 'roof_matl',\n",
       "       'exterior_1st', 'exterior_2nd', 'mas_vnr_type', 'exter_qual',\n",
       "       'exter_cond', 'foundation', 'bsmt_qual', 'bsmt_cond', 'bsmt_exposure',\n",
       "       'bsmtfin_type_1', 'bsmtfin_type_2', 'heating', 'heating_qc',\n",
       "       'central_air', 'electrical', 'kitchen_qual', 'functional',\n",
       "       'fireplace_qu', 'garage_type', 'garage_yr_blt', 'garage_finish',\n",
       "       'garage_qual', 'garage_cond', 'paved_drive', 'pool_qc', 'fence',\n",
       "       'misc_feature', 'sale_type'],\n",
       "      dtype='object')"
      ]
     },
     "execution_count": 138,
     "metadata": {},
     "output_type": "execute_result"
    }
   ],
   "source": [
    "object_columns"
   ]
  },
  {
   "cell_type": "code",
   "execution_count": 139,
   "metadata": {},
   "outputs": [],
   "source": [
    "# I choose a couple of features I would like to use in my model and turn them into dummies:\n",
    "\n",
    "dummie_list = [\"neighborhood\",'bldg_type','house_style','heating','central_air','garage_type','utilities']"
   ]
  },
  {
   "cell_type": "code",
   "execution_count": 140,
   "metadata": {},
   "outputs": [],
   "source": [
    "# Make dummie Data Frame:\n",
    "\n",
    "dummie_df = pd.get_dummies(test_df[dummie_list], drop_first=True)"
   ]
  },
  {
   "cell_type": "markdown",
   "metadata": {},
   "source": [
    "__Concat train_df with dummie_list_df:__"
   ]
  },
  {
   "cell_type": "code",
   "execution_count": 141,
   "metadata": {},
   "outputs": [],
   "source": [
    "test_df_dummies = pd.concat([test_df, dummie_df], axis = 1)"
   ]
  },
  {
   "cell_type": "code",
   "execution_count": 142,
   "metadata": {},
   "outputs": [
    {
     "data": {
      "text/html": [
       "<div>\n",
       "<style scoped>\n",
       "    .dataframe tbody tr th:only-of-type {\n",
       "        vertical-align: middle;\n",
       "    }\n",
       "\n",
       "    .dataframe tbody tr th {\n",
       "        vertical-align: top;\n",
       "    }\n",
       "\n",
       "    .dataframe thead th {\n",
       "        text-align: right;\n",
       "    }\n",
       "</style>\n",
       "<table border=\"1\" class=\"dataframe\">\n",
       "  <thead>\n",
       "    <tr style=\"text-align: right;\">\n",
       "      <th></th>\n",
       "      <th>id</th>\n",
       "      <th>pid</th>\n",
       "      <th>ms_subclass</th>\n",
       "      <th>ms_zoning</th>\n",
       "      <th>lot_frontage</th>\n",
       "      <th>lot_area</th>\n",
       "      <th>street</th>\n",
       "      <th>alley</th>\n",
       "      <th>lot_shape</th>\n",
       "      <th>land_contour</th>\n",
       "      <th>...</th>\n",
       "      <th>heating_GasW</th>\n",
       "      <th>heating_Grav</th>\n",
       "      <th>central_air_Y</th>\n",
       "      <th>garage_type_Attchd</th>\n",
       "      <th>garage_type_Basment</th>\n",
       "      <th>garage_type_BuiltIn</th>\n",
       "      <th>garage_type_CarPort</th>\n",
       "      <th>garage_type_Detchd</th>\n",
       "      <th>garage_type_none</th>\n",
       "      <th>utilities_NoSewr</th>\n",
       "    </tr>\n",
       "  </thead>\n",
       "  <tbody>\n",
       "    <tr>\n",
       "      <td>0</td>\n",
       "      <td>2658</td>\n",
       "      <td>902301120</td>\n",
       "      <td>190</td>\n",
       "      <td>RM</td>\n",
       "      <td>69.0</td>\n",
       "      <td>9142</td>\n",
       "      <td>Pave</td>\n",
       "      <td>Grvl</td>\n",
       "      <td>Reg</td>\n",
       "      <td>Lvl</td>\n",
       "      <td>...</td>\n",
       "      <td>0</td>\n",
       "      <td>0</td>\n",
       "      <td>0</td>\n",
       "      <td>0</td>\n",
       "      <td>0</td>\n",
       "      <td>0</td>\n",
       "      <td>0</td>\n",
       "      <td>1</td>\n",
       "      <td>0</td>\n",
       "      <td>0</td>\n",
       "    </tr>\n",
       "    <tr>\n",
       "      <td>1</td>\n",
       "      <td>2718</td>\n",
       "      <td>905108090</td>\n",
       "      <td>90</td>\n",
       "      <td>RL</td>\n",
       "      <td>75.0</td>\n",
       "      <td>9662</td>\n",
       "      <td>Pave</td>\n",
       "      <td>none</td>\n",
       "      <td>IR1</td>\n",
       "      <td>Lvl</td>\n",
       "      <td>...</td>\n",
       "      <td>0</td>\n",
       "      <td>0</td>\n",
       "      <td>1</td>\n",
       "      <td>1</td>\n",
       "      <td>0</td>\n",
       "      <td>0</td>\n",
       "      <td>0</td>\n",
       "      <td>0</td>\n",
       "      <td>0</td>\n",
       "      <td>0</td>\n",
       "    </tr>\n",
       "  </tbody>\n",
       "</table>\n",
       "<p>2 rows × 127 columns</p>\n",
       "</div>"
      ],
      "text/plain": [
       "     id        pid  ms_subclass ms_zoning  lot_frontage  lot_area street  \\\n",
       "0  2658  902301120          190        RM          69.0      9142   Pave   \n",
       "1  2718  905108090           90        RL          75.0      9662   Pave   \n",
       "\n",
       "  alley lot_shape land_contour  ... heating_GasW heating_Grav central_air_Y  \\\n",
       "0  Grvl       Reg          Lvl  ...            0            0             0   \n",
       "1  none       IR1          Lvl  ...            0            0             1   \n",
       "\n",
       "  garage_type_Attchd garage_type_Basment garage_type_BuiltIn  \\\n",
       "0                  0                   0                   0   \n",
       "1                  1                   0                   0   \n",
       "\n",
       "  garage_type_CarPort garage_type_Detchd  garage_type_none  utilities_NoSewr  \n",
       "0                   0                  1                 0                 0  \n",
       "1                   0                  0                 0                 0  \n",
       "\n",
       "[2 rows x 127 columns]"
      ]
     },
     "execution_count": 142,
     "metadata": {},
     "output_type": "execute_result"
    }
   ],
   "source": [
    "test_df_dummies.head(2)"
   ]
  },
  {
   "cell_type": "markdown",
   "metadata": {},
   "source": [
    "__Combine correlated features/ Making interaction terms:__"
   ]
  },
  {
   "cell_type": "code",
   "execution_count": 143,
   "metadata": {
    "scrolled": true
   },
   "outputs": [
    {
     "data": {
      "text/plain": [
       "Index(['id', 'pid', 'ms_subclass', 'ms_zoning', 'lot_frontage', 'lot_area',\n",
       "       'street', 'alley', 'lot_shape', 'land_contour', 'utilities',\n",
       "       'lot_config', 'land_slope', 'neighborhood', 'condition_1',\n",
       "       'condition_2', 'bldg_type', 'house_style', 'overall_qual',\n",
       "       'overall_cond', 'year_built', 'year_remod/add', 'roof_style',\n",
       "       'roof_matl', 'exterior_1st', 'exterior_2nd', 'mas_vnr_type',\n",
       "       'mas_vnr_area', 'exter_qual', 'exter_cond', 'foundation', 'bsmt_qual',\n",
       "       'bsmt_cond', 'bsmt_exposure', 'bsmtfin_type_1', 'bsmtfin_sf_1',\n",
       "       'bsmtfin_type_2', 'bsmtfin_sf_2', 'bsmt_unf_sf', 'total_bsmt_sf',\n",
       "       'heating', 'heating_qc', 'central_air', 'electrical', '1st_flr_sf',\n",
       "       '2nd_flr_sf', 'low_qual_fin_sf', 'gr_liv_area', 'bsmt_full_bath',\n",
       "       'bsmt_half_bath', 'full_bath', 'half_bath', 'bedroom_abvgr',\n",
       "       'kitchen_abvgr', 'kitchen_qual', 'totrms_abvgrd', 'functional',\n",
       "       'fireplaces', 'fireplace_qu', 'garage_type', 'garage_yr_blt',\n",
       "       'garage_finish', 'garage_cars', 'garage_area', 'garage_qual',\n",
       "       'garage_cond', 'paved_drive', 'wood_deck_sf', 'open_porch_sf',\n",
       "       'enclosed_porch', '3ssn_porch', 'screen_porch', 'pool_area', 'pool_qc',\n",
       "       'fence', 'misc_feature', 'misc_val', 'mo_sold', 'yr_sold', 'sale_type'],\n",
       "      dtype='object')"
      ]
     },
     "execution_count": 143,
     "metadata": {},
     "output_type": "execute_result"
    }
   ],
   "source": [
    "test_df.columns"
   ]
  },
  {
   "cell_type": "code",
   "execution_count": 144,
   "metadata": {},
   "outputs": [],
   "source": [
    "# Make \"total_liv_sqft\" column out of \"gr_liv_area\", \"1st_flr_sf\", \n",
    "# \"2nd_flr_sfand\", \"total_bsmt_sf\", \"bsmtfin_sf_1\".\n",
    "\n",
    "test_df_dummies['total_liv_sqft'] = \\\n",
    "test_df_dummies['gr_liv_area']+test_df_dummies['1st_flr_sf']+test_df_dummies['2nd_flr_sf']\\\n",
    "+test_df_dummies['total_bsmt_sf']+test_df_dummies['bsmtfin_sf_1']\n",
    "\n"
   ]
  },
  {
   "cell_type": "code",
   "execution_count": 145,
   "metadata": {},
   "outputs": [],
   "source": [
    "test_df_dummies['total_bsmt_1st_flr_sf']=test_df_dummies['total_bsmt_sf']*test_df_dummies['1st_flr_sf']"
   ]
  },
  {
   "cell_type": "code",
   "execution_count": 146,
   "metadata": {},
   "outputs": [],
   "source": [
    "# Make \"garage_total\" column out of \"garage_area\" and \"garage_cars\".\n",
    "\n",
    "test_df_dummies['garage_total'] = test_df_dummies['garage_area']*test_df_dummies['garage_cars']\n",
    "\n"
   ]
  },
  {
   "cell_type": "markdown",
   "metadata": {},
   "source": [
    "### 2.4 Saving Cleaned and Modified Train Data\n",
    "___"
   ]
  },
  {
   "cell_type": "code",
   "execution_count": 147,
   "metadata": {},
   "outputs": [],
   "source": [
    "test_df_dummies.to_csv(r\"../data/test_df_dummies.csv\")"
   ]
  },
  {
   "cell_type": "markdown",
   "metadata": {},
   "source": [
    "### 2.5 Add log columns for overall_qual and total_liv_sqft for Model 2\n",
    "___"
   ]
  },
  {
   "cell_type": "code",
   "execution_count": 148,
   "metadata": {},
   "outputs": [],
   "source": [
    "test_df_dummies_model_2 =test_df_dummies"
   ]
  },
  {
   "cell_type": "code",
   "execution_count": 149,
   "metadata": {},
   "outputs": [],
   "source": [
    "test_df_dummies_model_2['overall_qual_log']=test_df_dummies_model_2['overall_qual'].map(np.log)\n",
    "test_df_dummies_model_2['total_liv_sqft_log']=test_df_dummies_model_2['total_liv_sqft'].map(np.log)"
   ]
  },
  {
   "cell_type": "code",
   "execution_count": 150,
   "metadata": {},
   "outputs": [],
   "source": [
    "test_df_dummies_model_2.to_csv(r\"../data/test_df_dummies_model_2.csv\")"
   ]
  },
  {
   "cell_type": "markdown",
   "metadata": {},
   "source": [
    "### 2.6 Adding Polynominal Features on features from Model 2 for Model 4\n",
    "___"
   ]
  },
  {
   "cell_type": "code",
   "execution_count": 151,
   "metadata": {},
   "outputs": [],
   "source": [
    "features_4= ['overall_qual_log', 'total_liv_sqft_log',\n",
    "       'kitchen_qual', 'garage_total', 'bsmt_qual', 'year_built',\n",
    "       'year_remod/add', 'fireplace_qu', 'totrms_abvgrd',\n",
    "       'mas_vnr_area', 'full_bath']"
   ]
  },
  {
   "cell_type": "code",
   "execution_count": 152,
   "metadata": {},
   "outputs": [],
   "source": [
    "X_4 = test_df_dummies_model_2[features_4]\n"
   ]
  },
  {
   "cell_type": "code",
   "execution_count": 153,
   "metadata": {},
   "outputs": [],
   "source": [
    "poly = PolynomialFeatures(include_bias=False)"
   ]
  },
  {
   "cell_type": "code",
   "execution_count": 154,
   "metadata": {},
   "outputs": [
    {
     "data": {
      "text/plain": [
       "(879, 77)"
      ]
     },
     "execution_count": 154,
     "metadata": {},
     "output_type": "execute_result"
    }
   ],
   "source": [
    "# Create X_poly\n",
    "X_poly = poly.fit_transform(X_4)\n",
    "X_poly.shape #numpy array. "
   ]
  },
  {
   "cell_type": "code",
   "execution_count": 155,
   "metadata": {},
   "outputs": [],
   "source": [
    "X_poly_df = pd.DataFrame(X_poly, columns = poly.get_feature_names(features_4))"
   ]
  },
  {
   "cell_type": "code",
   "execution_count": 156,
   "metadata": {
    "scrolled": true
   },
   "outputs": [],
   "source": [
    "X_poly_df.to_csv(r\"../data/X_poly_model_4.csv\")"
   ]
  },
  {
   "cell_type": "markdown",
   "metadata": {},
   "source": [
    "### 2.7 Adding Features for  Model 7\n",
    "___"
   ]
  },
  {
   "cell_type": "code",
   "execution_count": 157,
   "metadata": {},
   "outputs": [],
   "source": [
    "test_df_dummies_model_7 = test_df_dummies_model_2[['total_liv_sqft_log', 'overall_qual', 'total_liv_sqft',\n",
    "       'overall_qual_log', 'exter_qual', 'kitchen_qual', 'garage_total',\n",
    "       'bsmt_qual', 'year_built', 'year_remod/add', 'full_bath',\n",
    "       'fireplace_qu', 'heating_qc', 'totrms_abvgrd','id']]"
   ]
  },
  {
   "cell_type": "code",
   "execution_count": 158,
   "metadata": {},
   "outputs": [],
   "source": [
    "test_df_dummies_model_7.to_csv(r\"../data/test_df_dummies_model_7.csv\")"
   ]
  },
  {
   "cell_type": "markdown",
   "metadata": {},
   "source": [
    "### 2.8 Adding Features for  Model 11\n",
    "___"
   ]
  },
  {
   "cell_type": "code",
   "execution_count": 160,
   "metadata": {},
   "outputs": [],
   "source": [
    "test_df_dummies_numeric = test_df_dummies.select_dtypes(include=[np.number])"
   ]
  },
  {
   "cell_type": "code",
   "execution_count": 164,
   "metadata": {},
   "outputs": [],
   "source": [
    "add_neigborhoods = [, 'neighborhood_Landmrk', 'neighborhood_GrnHill', 'utilities_NoSeWa', 'heating_Wall']"
   ]
  },
  {
   "cell_type": "code",
   "execution_count": 166,
   "metadata": {},
   "outputs": [
    {
     "data": {
      "text/plain": [
       "['heating_OthW',\n",
       " 'neighborhood_Landmrk',\n",
       " 'neighborhood_GrnHill',\n",
       " 'utilities_NoSeWa',\n",
       " 'heating_Wall']"
      ]
     },
     "execution_count": 166,
     "metadata": {},
     "output_type": "execute_result"
    }
   ],
   "source": [
    "add_neigborhoods"
   ]
  },
  {
   "cell_type": "code",
   "execution_count": 168,
   "metadata": {},
   "outputs": [],
   "source": [
    "test_df_dummies_numeric = pd.concat(\n",
    "    [\n",
    "        test_df_dummies_numeric,\n",
    "        pd.DataFrame(\n",
    "            [[0, 0,0,0,0]], \n",
    "            index=test_df_dummies_numeric.index, \n",
    "            columns=['heating_OthW',\n",
    " 'neighborhood_Landmrk',\n",
    " 'neighborhood_GrnHill',\n",
    " 'utilities_NoSeWa',\n",
    " 'heating_Wall']\n",
    "        )\n",
    "    ], axis=1\n",
    ")\n",
    "\n"
   ]
  },
  {
   "cell_type": "code",
   "execution_count": 177,
   "metadata": {},
   "outputs": [],
   "source": [
    "test_df_dummies_numeric.to_csv(r\"../data/test_df_dummies_numeric.csv\", index=False)\n"
   ]
  },
  {
   "cell_type": "code",
   "execution_count": 178,
   "metadata": {},
   "outputs": [
    {
     "data": {
      "text/plain": [
       "(879, 104)"
      ]
     },
     "execution_count": 178,
     "metadata": {},
     "output_type": "execute_result"
    }
   ],
   "source": [
    "test_df_dummies_numeric.shape"
   ]
  }
 ],
 "metadata": {
  "kernelspec": {
   "display_name": "Python 3",
   "language": "python",
   "name": "python3"
  },
  "language_info": {
   "codemirror_mode": {
    "name": "ipython",
    "version": 3
   },
   "file_extension": ".py",
   "mimetype": "text/x-python",
   "name": "python",
   "nbconvert_exporter": "python",
   "pygments_lexer": "ipython3",
   "version": "3.7.3"
  }
 },
 "nbformat": 4,
 "nbformat_minor": 2
}
